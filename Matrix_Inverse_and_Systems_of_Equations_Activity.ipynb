{
  "nbformat": 4,
  "nbformat_minor": 0,
  "metadata": {
    "colab": {
      "provenance": []
    },
    "kernelspec": {
      "name": "python3",
      "display_name": "Python 3"
    },
    "language_info": {
      "name": "python"
    }
  },
  "cells": [
    {
      "cell_type": "markdown",
      "source": [
        "```\n",
        "Problem 1\n",
        "```"
      ],
      "metadata": {
        "id": "M5lGEhGgqIsv"
      }
    },
    {
      "cell_type": "code",
      "execution_count": 2,
      "metadata": {
        "colab": {
          "base_uri": "https://localhost:8080/"
        },
        "id": "KkgbmbPEqHK1",
        "outputId": "2df4cdcd-6003-481c-b840-30a976b9458c"
      },
      "outputs": [
        {
          "output_type": "stream",
          "name": "stdout",
          "text": [
            "[[ 0.71428571 -0.57142857]\n",
            " [-0.28571429  0.42857143]]\n"
          ]
        }
      ],
      "source": [
        "import numpy as np\n",
        "\n",
        "\n",
        "matrix = np.array([[3, 4], [2, 5]])\n",
        "\n",
        "\n",
        "try:\n",
        "    matrix_inverse = np.linalg.inv(matrix)\n",
        "except np.linalg.LinAlgError:\n",
        "    matrix_inverse = \"The matrix is singular and cannot be inverted\"\n",
        "\n",
        "print(matrix_inverse)\n"
      ]
    },
    {
      "cell_type": "markdown",
      "source": [
        "```\n",
        "Problem 2\n",
        "```\n"
      ],
      "metadata": {
        "id": "-Ulr3_KBryHi"
      }
    },
    {
      "cell_type": "code",
      "source": [
        "import numpy as np\n",
        "\n",
        "\n",
        "matrix = np.array([[2, 3], [4, -1]])\n",
        "rhs = np.array([7, 5])\n",
        "\n",
        "try:\n",
        "\n",
        "    result = np.linalg.solve(matrix, rhs)\n",
        "    print(f\"Solution: x = {result[0]:.3f}, y = {result[1]:.3f}\")\n",
        "except np.linalg.LinAlgError:\n",
        "    print(\"The system of equations cannot be solved.\")\n"
      ],
      "metadata": {
        "colab": {
          "base_uri": "https://localhost:8080/"
        },
        "id": "95y9rf7Jr0_h",
        "outputId": "0a4c400a-d10a-4b25-b026-c02700c264b9"
      },
      "execution_count": 3,
      "outputs": [
        {
          "output_type": "stream",
          "name": "stdout",
          "text": [
            "Solution: x = 1.571, y = 1.286\n"
          ]
        }
      ]
    },
    {
      "cell_type": "markdown",
      "source": [
        "```\n",
        "Problem 3\n",
        "```\n"
      ],
      "metadata": {
        "id": "QT6qtDMUsxvw"
      }
    },
    {
      "cell_type": "code",
      "source": [
        "import numpy as np\n",
        "\n",
        "\n",
        "matrix = np.array([[1, 2, 3], [0, 1, 4], [5, 6, 0]])\n",
        "\n",
        "determinant = np.linalg.det(matrix)\n",
        "rank = np.linalg.matrix_rank(matrix)\n",
        "\n",
        "print(\"Determinant of the matrix:\", determinant)\n",
        "print(\"Rank of the matrix:\", rank)\n"
      ],
      "metadata": {
        "colab": {
          "base_uri": "https://localhost:8080/"
        },
        "id": "RYJZWb2ns0KA",
        "outputId": "fb24fd9f-a40d-4d1d-ae11-bfba63b04558"
      },
      "execution_count": 4,
      "outputs": [
        {
          "output_type": "stream",
          "name": "stdout",
          "text": [
            "Determinant of the matrix: 0.9999999999999964\n",
            "Rank of the matrix: 3\n"
          ]
        }
      ]
    },
    {
      "cell_type": "markdown",
      "source": [
        "```\n",
        "Problem 4\n",
        "```"
      ],
      "metadata": {
        "id": "as-aMccmtD56"
      }
    },
    {
      "cell_type": "code",
      "source": [
        "import numpy as np\n",
        "\n",
        "\n",
        "coeff_matrix = np.array([[1, 1, 1], [2, 5, 1], [2, 3, 8]])\n",
        "constants_vector = np.array([6, -4, 9])\n",
        "\n",
        "\n",
        "inverse_matrix = np.linalg.inv(coeff_matrix)\n",
        "\n",
        "\n",
        "solution = np.dot(inverse_matrix, constants_vector)\n",
        "\n",
        "print(f\"Solution: x = {solution[0]:.3f}, y = {solution[1]:.3f}, z = {solution[2]:.3f}\")\n"
      ],
      "metadata": {
        "colab": {
          "base_uri": "https://localhost:8080/"
        },
        "id": "Thmoz-CFtHUg",
        "outputId": "1ef2594a-d4be-4942-f3ce-55084e761dba"
      },
      "execution_count": 5,
      "outputs": [
        {
          "output_type": "stream",
          "name": "stdout",
          "text": [
            "Solution: x = 10.842, y = -5.211, z = 0.368\n"
          ]
        }
      ]
    },
    {
      "cell_type": "markdown",
      "source": [
        "```\n",
        "Problem 5\n",
        "```"
      ],
      "metadata": {
        "id": "krrG-l7ptRSk"
      }
    },
    {
      "cell_type": "code",
      "source": [
        "import numpy as np\n",
        "\n",
        "\n",
        "matrix = np.array([[4, -1, 0], [3, 5, 2], [-2, 4, 1]])\n",
        "constants = np.array([5, 6, 2])\n",
        "\n",
        "\n",
        "solutions = np.linalg.solve(matrix, constants)\n",
        "\n",
        "\n",
        "print(f\"Solution: x1 = {solutions[0]:.3f}, x2 = {solutions[1]:.3f}, x3 = {solutions[2]:.3f}\")\n"
      ],
      "metadata": {
        "colab": {
          "base_uri": "https://localhost:8080/"
        },
        "id": "_W9WCuBZtUEK",
        "outputId": "40aeb802-b711-422c-ac5e-c87dbc172ab0"
      },
      "execution_count": 6,
      "outputs": [
        {
          "output_type": "stream",
          "name": "stdout",
          "text": [
            "Solution: x1 = 2.600, x2 = 5.400, x3 = -14.400\n"
          ]
        }
      ]
    },
    {
      "cell_type": "markdown",
      "source": [
        "```\n",
        "Problem 6\n",
        "```\n"
      ],
      "metadata": {
        "id": "aX5TSFrVtvYS"
      }
    },
    {
      "cell_type": "code",
      "source": [
        "import numpy as np\n",
        "\n",
        "def calculate_inverse(matrix):\n",
        "    \"\"\"\n",
        "    Determines whether a square matrix is invertible. If invertible, returns the inverse.\n",
        "    Otherwise, returns a message indicating it is not invertible.\n",
        "\n",
        "    Parameters:\n",
        "    matrix (numpy.ndarray): The input matrix to analyze and potentially invert.\n",
        "\n",
        "    Returns:\n",
        "    numpy.ndarray or str: The inverse of the matrix if invertible, or a descriptive message.\n",
        "    \"\"\"\n",
        "    # Ensure the matrix is square\n",
        "    if matrix.shape[0] != matrix.shape[1]:\n",
        "        return \"The input is not a square matrix and cannot be inverted.\"\n",
        "\n",
        "    # Compute the determinant\n",
        "    det = np.linalg.det(matrix)\n",
        "\n",
        "    # Check if the determinant is zero\n",
        "    if det == 0:\n",
        "        return \"The matrix is singular and not invertible (determinant is zero).\"\n",
        "\n",
        "    # Calculate the inverse\n",
        "    inv_matrix = np.linalg.inv(matrix)\n",
        "    return inv_matrix\n",
        "\n",
        "# Example usage\n",
        "input_matrix = np.array([[2, 1], [4, 2]])\n",
        "inverse_result = calculate_inverse(input_matrix)\n",
        "print(inverse_result)\n"
      ],
      "metadata": {
        "id": "tlHkdq54txqy",
        "outputId": "65624b0c-1957-420a-913c-4660502f62eb",
        "colab": {
          "base_uri": "https://localhost:8080/"
        }
      },
      "execution_count": 7,
      "outputs": [
        {
          "output_type": "stream",
          "name": "stdout",
          "text": [
            "The matrix is singular and not invertible (determinant is zero).\n"
          ]
        }
      ]
    }
  ]
}