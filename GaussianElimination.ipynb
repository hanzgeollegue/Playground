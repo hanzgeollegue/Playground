{
  "nbformat": 4,
  "nbformat_minor": 0,
  "metadata": {
    "colab": {
      "provenance": []
    },
    "kernelspec": {
      "name": "python3",
      "display_name": "Python 3"
    },
    "language_info": {
      "name": "python"
    }
  },
  "cells": [
    {
      "cell_type": "markdown",
      "source": [
        "```\n",
        "1. Use Naïve Gauss elimination to solve\n"
      ],
      "metadata": {
        "id": "8btcByGUmn7_"
      }
    },
    {
      "cell_type": "code",
      "execution_count": 2,
      "metadata": {
        "colab": {
          "base_uri": "https://localhost:8080/"
        },
        "id": "FoIYOF3AmgfD",
        "outputId": "2bbd6586-d2c6-4d6c-db8e-462c6b5c92f6"
      },
      "outputs": [
        {
          "output_type": "stream",
          "name": "stdout",
          "text": [
            "Solution: [  3. -13.   1.]\n"
          ]
        }
      ],
      "source": [
        "import numpy as np\n",
        "\n",
        "def solve_gaussian(A, b):\n",
        "    n = len(b)\n",
        "\n",
        "    # Forward elimination\n",
        "    for k in range(n):\n",
        "        # Pivoting for numerical stability\n",
        "        pivot_row = np.argmax(abs(A[k:, k])) + k\n",
        "        A[[k, pivot_row]] = A[[pivot_row, k]]\n",
        "        b[[k, pivot_row]] = b[[pivot_row, k]]\n",
        "\n",
        "        for i in range(k + 1, n):\n",
        "            multiplier = A[i][k] / A[k][k]\n",
        "            A[i, k:] = A[i, k:] - multiplier * A[k, k:]\n",
        "            b[i] -= multiplier * b[k]\n",
        "\n",
        "\n",
        "    result = np.zeros(n)\n",
        "    for i in range(n - 1, -1, -1):\n",
        "        result[i] = (b[i] - np.dot(A[i, i + 1:], result[i + 1:])) / A[i][i]\n",
        "\n",
        "    return result\n",
        "\n",
        "# Coefficient matrix A and right-hand side vector b\n",
        "A = np.array([[4, 1, -1],\n",
        "              [5, 1,  2],\n",
        "              [6, 1,  1]], dtype=float)\n",
        "b = np.array([-2, 4, 6], dtype=float)\n",
        "\n",
        "\n",
        "solution = solve_gaussian(A, b)\n",
        "print(\"Solution:\", solution)\n"
      ]
    },
    {
      "cell_type": "markdown",
      "source": [
        "```\n",
        "2. Assume that you are using a computer with four significant digits with chopping.\n",
        "Use Naïve Gauss elimination method to solve\n",
        "```"
      ],
      "metadata": {
        "id": "rcWWtdjNm89D"
      }
    },
    {
      "cell_type": "code",
      "source": [
        "def truncate(value, precision=4):\n",
        "    \"\"\"Truncate a number to a specified number of significant digits.\"\"\"\n",
        "    if value == 0:\n",
        "        return 0.0\n",
        "    return float(f\"{value:.{precision}g}\")\n",
        "\n",
        "def gaussian_elim_with_truncation(A, b, precision=4):\n",
        "    size = len(b)\n",
        "    A = A.astype(float)\n",
        "    b = b.astype(float)\n",
        "\n",
        "    # Forward elimination\n",
        "    for row in range(size):\n",
        "        for next_row in range(row + 1, size):\n",
        "            scaling_factor = truncate(A[next_row, row] / A[row, row], precision)\n",
        "            A[next_row] = [\n",
        "                truncate(A[next_row, col] - scaling_factor * A[row, col], precision)\n",
        "                for col in range(size)\n",
        "            ]\n",
        "            b[next_row] = truncate(b[next_row] - scaling_factor * b[row], precision)\n",
        "\n",
        "    # Back substitution\n",
        "    result = np.zeros(size)\n",
        "    for row in range(size - 1, -1, -1):\n",
        "        partial_sum = truncate(\n",
        "            sum(A[row, col] * result[col] for col in range(row + 1, size)), precision\n",
        "        )\n",
        "        result[row] = truncate((b[row] - partial_sum) / A[row, row], precision)\n",
        "\n",
        "    return result\n",
        "\n",
        "# Coefficient matrix A and RHS vector b\n",
        "A = np.array([[4, 1, -1],\n",
        "              [5, 1,  2],\n",
        "              [6, 1,  1]], dtype=float)\n",
        "b = np.array([-2, 4, 6], dtype=float)\n",
        "\n",
        "# Solve using Gaussian Elimination with truncation\n",
        "solution = gaussian_elim_with_truncation(A, b, precision=4)\n",
        "print(\"Solution with 4 significant digits (truncation):\", solution)\n"
      ],
      "metadata": {
        "colab": {
          "base_uri": "https://localhost:8080/"
        },
        "id": "ZAMCsT4DnNrq",
        "outputId": "98846e11-6f48-4c80-cea0-a2d445731d22"
      },
      "execution_count": 3,
      "outputs": [
        {
          "output_type": "stream",
          "name": "stdout",
          "text": [
            "Solution with 4 significant digits (truncation): [  3. -13.   1.]\n"
          ]
        }
      ]
    },
    {
      "cell_type": "markdown",
      "source": [
        "```\n",
        "3. Find the determinant of [A] using forward elimination step of naïve Gauss\n",
        "elimination method.\n",
        "```"
      ],
      "metadata": {
        "id": "PUNsd1rynm1n"
      }
    },
    {
      "cell_type": "code",
      "source": [
        "def determinant_using_gaussian_elimination(matrix):\n",
        "    \"\"\"Compute the determinant of a matrix using Gaussian Elimination.\"\"\"\n",
        "    size = len(matrix)\n",
        "    determinant = 1.0  # Initialize determinant value\n",
        "    matrix = matrix.astype(float)  # Convert to float for calculations\n",
        "\n",
        "    # Forward elimination to form an upper triangular matrix\n",
        "    for col in range(size):\n",
        "        # Pivoting for numerical stability\n",
        "        pivot_row = np.argmax(abs(matrix[col:, col])) + col\n",
        "        if pivot_row != col:\n",
        "            matrix[[col, pivot_row]] = matrix[[pivot_row, col]]\n",
        "            determinant *= -1  # Swap changes the sign of the determinant\n",
        "\n",
        "        # Update determinant with pivot element\n",
        "        pivot_value = matrix[col, col]\n",
        "        if pivot_value == 0:\n",
        "            return 0.0  # Determinant is zero if pivot is zero\n",
        "        determinant *= pivot_value\n",
        "\n",
        "        # Eliminate entries below the pivot\n",
        "        for row in range(col + 1, size):\n",
        "            scale_factor = matrix[row, col] / pivot_value\n",
        "            matrix[row] -= scale_factor * matrix[col]\n",
        "\n",
        "    return determinant\n",
        "\n",
        "# Input matrix\n",
        "matrix = np.array([[10, -7, 0],\n",
        "                   [-3, 2.099, 6],\n",
        "                   [5, -1, 5]])\n",
        "\n",
        "# Compute and display the determinant\n",
        "result_determinant = determinant_using_gaussian_elimination(matrix)\n",
        "print(\"Determinant of the matrix:\", round(result_determinant, 4))\n"
      ],
      "metadata": {
        "colab": {
          "base_uri": "https://localhost:8080/"
        },
        "id": "h_PWyFNmnp15",
        "outputId": "52069136-35ff-4191-ff01-aee39c515b42"
      },
      "execution_count": 4,
      "outputs": [
        {
          "output_type": "stream",
          "name": "stdout",
          "text": [
            "Determinant of the matrix: -150.05\n"
          ]
        }
      ]
    },
    {
      "cell_type": "markdown",
      "source": [
        "```\n",
        "4. At the end of forward elimination steps using naïve Gauss elimination method on\n",
        "the coefficient matrix. What is the determinant of A?\n",
        "```"
      ],
      "metadata": {
        "id": "gBn_lcVKnx_D"
      }
    },
    {
      "cell_type": "code",
      "source": [
        "def determinant_of_triangular(matrix):\n",
        "    \"\"\"Calculate the determinant of a triangular matrix.\"\"\"\n",
        "    diagonal_elements = np.diag(matrix)  # Extract diagonal elements\n",
        "    determinant = np.prod(diagonal_elements)  # Product of diagonal elements\n",
        "    return determinant\n",
        "\n",
        "# Define the triangular matrix\n",
        "matrix_B = np.array([\n",
        "    [25, 5, 1],\n",
        "    [0, -4.8, -1.56],\n",
        "    [0, 0, 0.7]\n",
        "])\n",
        "\n",
        "# Compute and display the determinant\n",
        "det = determinant_of_triangular(matrix_B)\n",
        "print(\"The determinant of the matrix is:\", det)\n"
      ],
      "metadata": {
        "colab": {
          "base_uri": "https://localhost:8080/"
        },
        "id": "6CeF6q6soGm_",
        "outputId": "3475a31c-4739-4879-c4ed-2109e0cb98b9"
      },
      "execution_count": 5,
      "outputs": [
        {
          "output_type": "stream",
          "name": "stdout",
          "text": [
            "The determinant of the matrix is: -84.0\n"
          ]
        }
      ]
    },
    {
      "cell_type": "markdown",
      "source": [
        "```\n",
        "5. Using Gaussian elimination with partial pivoting to solve\n",
        "```"
      ],
      "metadata": {
        "id": "ltUDT-gWofnC"
      }
    },
    {
      "cell_type": "code",
      "source": [
        "A = np.array([[4, 1, -1],\n",
        "              [5, 1, 2],\n",
        "              [6, 1, 1]], dtype=float)\n",
        "\n",
        "b = np.array([-2, 4, 6], dtype=float)\n",
        "\n",
        "def gaussian_elimination_with_pivot(A, b):\n",
        "    \"\"\"Solve a system of linear equations using Gaussian elimination with partial pivoting.\"\"\"\n",
        "    n = len(b)\n",
        "\n",
        "    # Forward elimination with partial pivoting\n",
        "    for step in range(n - 1):\n",
        "        # Pivoting: Locate the maximum value in the current column\n",
        "        pivot_row = np.argmax(abs(A[step:n, step])) + step\n",
        "        if pivot_row != step:\n",
        "            A[[step, pivot_row]] = A[[pivot_row, step]]  # Swap rows in A\n",
        "            b[[step, pivot_row]] = b[[pivot_row, step]]  # Swap rows in b\n",
        "\n",
        "        # Eliminate entries below the pivot\n",
        "        for row in range(step + 1, n):\n",
        "            scale = A[row, step] / A[step, step]\n",
        "            A[row, step:] -= scale * A[step, step:]\n",
        "            b[row] -= scale * b[step]\n",
        "\n",
        "    # Back substitution to solve for variables\n",
        "    result = np.zeros(n)\n",
        "    for row in range(n - 1, -1, -1):\n",
        "        result[row] = (b[row] - np.dot(A[row, row + 1:], result[row + 1:])) / A[row, row]\n",
        "    return result\n",
        "\n",
        "# Solve the system\n",
        "solution = gaussian_elimination_with_pivot(A, b)\n",
        "print(\"Solution (x1, x2, x3):\", solution)\n"
      ],
      "metadata": {
        "colab": {
          "base_uri": "https://localhost:8080/"
        },
        "id": "avMRJ4p3ojyf",
        "outputId": "c0138065-f315-47ad-a0a4-e48d118ad726"
      },
      "execution_count": 8,
      "outputs": [
        {
          "output_type": "stream",
          "name": "stdout",
          "text": [
            "Solution (x1, x2, x3): [  3. -13.   1.]\n"
          ]
        }
      ]
    },
    {
      "cell_type": "markdown",
      "source": [
        "```\n",
        "6.\n",
        "```"
      ],
      "metadata": {
        "id": "GS45a0OTpWer"
      }
    },
    {
      "cell_type": "code",
      "source": [
        "def chop(value, digits=4):\n",
        "    \"\"\"Chop a value to a specified number of significant digits.\"\"\"\n",
        "    if value == 0:\n",
        "        return 0.0\n",
        "    return float(f\"{value:.{digits}g}\")\n",
        "\n",
        "def gaussian_elimination_partial_pivot_chop(A, b, digits=4):\n",
        "    \"\"\"Solve a system of linear equations using Gaussian elimination\n",
        "    with partial pivoting and chopping.\"\"\"\n",
        "    n = len(b)\n",
        "    A = A.astype(float)\n",
        "    b = b.astype(float)\n",
        "\n",
        "    # Forward Elimination with Partial Pivoting\n",
        "    for k in range(n - 1):\n",
        "        # Partial Pivoting\n",
        "        max_index = np.argmax(abs(A[k:n, k])) + k\n",
        "        if max_index != k:\n",
        "            A[[k, max_index]] = A[[max_index, k]]\n",
        "            b[[k, max_index]] = b[[max_index, k]]\n",
        "\n",
        "        # Eliminate entries below the pivot\n",
        "        for i in range(k + 1, n):\n",
        "            factor = chop(A[i, k] / A[k, k], digits)\n",
        "            A[i, k:] = [chop(A[i, j] - factor * A[k, j], digits) for j in range(k, n)]\n",
        "            b[i] = chop(b[i] - factor * b[k], digits)\n",
        "\n",
        "    # Backward Substitution\n",
        "    x = np.zeros(n)\n",
        "    for i in range(n - 1, -1, -1):\n",
        "        summation = chop(sum(A[i, j] * x[j] for j in range(i + 1, n)), digits)\n",
        "        x[i] = chop((b[i] - summation) / A[i, i], digits)\n",
        "\n",
        "    return x\n",
        "\n",
        "# Coefficient matrix (A) and RHS vector (b)\n",
        "A = np.array([[4, 1, -1],\n",
        "              [5, 1, 2],\n",
        "              [6, 1, 1]], dtype=float)\n",
        "b = np.array([-2, 4, 6], dtype=float)\n",
        "\n",
        "# Solve using Gaussian Elimination with chopping\n",
        "solution = gaussian_elimination_partial_pivot_chop(A, b, digits=4)\n",
        "print(\"Solution (x1, x2, x3):\", solution)\n"
      ],
      "metadata": {
        "colab": {
          "base_uri": "https://localhost:8080/"
        },
        "id": "h1ZnXLT4pY56",
        "outputId": "d6783e23-fa0a-4a79-ea96-42706398a6a8"
      },
      "execution_count": 9,
      "outputs": [
        {
          "output_type": "stream",
          "name": "stdout",
          "text": [
            "Solution (x1, x2, x3): [  3. -13.   1.]\n"
          ]
        }
      ]
    }
  ]
}