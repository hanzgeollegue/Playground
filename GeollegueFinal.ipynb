{
  "nbformat": 4,
  "nbformat_minor": 0,
  "metadata": {
    "colab": {
      "provenance": []
    },
    "kernelspec": {
      "name": "python3",
      "display_name": "Python 3"
    },
    "language_info": {
      "name": "python"
    }
  },
  "cells": [
    {
      "cell_type": "code",
      "execution_count": 1,
      "metadata": {
        "id": "aVEaNpSf9_WX",
        "outputId": "a1d80dd1-1d44-4f61-86e6-3f8608735791",
        "colab": {
          "base_uri": "https://localhost:8080/"
        }
      },
      "outputs": [
        {
          "output_type": "stream",
          "name": "stdout",
          "text": [
            "Generated 3x4 Matrix:\n",
            "[[13 16  1  4]\n",
            " [ 4  8 10 20]\n",
            " [19  5  7 13]]\n",
            "\n",
            "Coefficient Matrix (A):\n",
            "[[13 16  1]\n",
            " [ 4  8 10]\n",
            " [19  5  7]]\n",
            "\n",
            "Right-hand Side Vector (b):\n",
            "[ 4 20 13]\n",
            "\n",
            "Solution using Matrix Inverse Method:\n",
            "[-0.05516154  0.17730496  1.88022065]\n",
            "\n",
            "Solution using Gaussian Elimination (NumPy):\n",
            "[-0.05516154  0.17730496  1.88022065]\n",
            "\n",
            "Verification (Ax = b):\n",
            "[ 4. 20. 13.]\n"
          ]
        }
      ],
      "source": [
        "import numpy as np\n",
        "\n",
        "# Step 1: Define the fixed 3x4 matrix\n",
        "matrix_3x4 = np.array([[13, 16, 1, 4],\n",
        "                       [4, 8, 10, 20],\n",
        "                       [19, 5, 7, 13]])\n",
        "\n",
        "# Extract Coefficient Matrix (A) and Right-hand Side Vector (b)\n",
        "A = matrix_3x4[:, :3]  # First 3 columns\n",
        "b = matrix_3x4[:, 3]   # Last column\n",
        "\n",
        "print(\"Generated 3x4 Matrix:\")\n",
        "print(matrix_3x4)\n",
        "print(\"\\nCoefficient Matrix (A):\")\n",
        "print(A)\n",
        "print(\"\\nRight-hand Side Vector (b):\")\n",
        "print(b)\n",
        "\n",
        "# Solve using Matrix Inverse Method\n",
        "try:\n",
        "    A_inv = np.linalg.inv(A)  # Compute A^-1\n",
        "    x_manual = np.dot(A_inv, b)  # x = A^-1 * b\n",
        "    print(\"\\nSolution using Matrix Inverse Method:\")\n",
        "    print(x_manual)\n",
        "except np.linalg.LinAlgError:\n",
        "    print(\"\\nMatrix A is singular and cannot be inverted.\")\n",
        "\n",
        "# Solve using Gaussian Elimination\n",
        "x_gaussian = np.linalg.solve(A, b)  # Direct Gaussian elimination\n",
        "print(\"\\nSolution using Gaussian Elimination (NumPy):\")\n",
        "print(x_gaussian)\n",
        "\n",
        "# Verify the solution\n",
        "b_check = np.dot(A, x_gaussian)  # Recompute b using A and the computed x\n",
        "print(\"\\nVerification (Ax = b):\")\n",
        "print(b_check)\n"
      ]
    }
  ]
}