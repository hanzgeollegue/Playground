{
  "nbformat": 4,
  "nbformat_minor": 0,
  "metadata": {
    "colab": {
      "provenance": []
    },
    "kernelspec": {
      "name": "python3",
      "display_name": "Python 3"
    },
    "language_info": {
      "name": "python"
    }
  },
  "cells": [
    {
      "cell_type": "markdown",
      "source": [
        "```\n",
        "Q1: What are some examples of unary operations in matrices? Write your answer below:\n",
        "\n",
        "```\n",
        "\n",
        "Unary operations are operations that apply to a single matrix. Examples of unary operations include:\n",
        "\n",
        ">Transpose: Flipping the matrix over its diagonal, changing rows into columns and vice versa.\n",
        "\n",
        ">Trace: The sum of the diagonal elements of the matrix.\n",
        "\n",
        ">Determinant: A scalar value that represents certain properties of the matrix (e.g., whether the matrix is invertible).\n",
        "\n",
        ">Inverse: The matrix that, when multiplied by the original matrix, gives the identity matrix (for invertible matrices).\n",
        "\n",
        ">Rank: The maximum number of linearly independent rows or columns in the matrix."
      ],
      "metadata": {
        "id": "G__WCSyPYICR"
      }
    },
    {
      "cell_type": "markdown",
      "source": [
        "```\n",
        "Practice Problem #1\n",
        "```"
      ],
      "metadata": {
        "id": "YgoQZbdkddSY"
      }
    },
    {
      "cell_type": "code",
      "execution_count": 3,
      "metadata": {
        "id": "Xd8_V_UzVjZq",
        "colab": {
          "base_uri": "https://localhost:8080/"
        },
        "outputId": "b8eb0b6a-c207-4d89-e837-b927bc9fe7b7"
      },
      "outputs": [
        {
          "output_type": "stream",
          "name": "stdout",
          "text": [
            "Random Matrix:\n",
            " [[5 2 2 5]\n",
            " [3 4 9 9]\n",
            " [2 9 4 3]\n",
            " [6 7 2 8]]\n",
            "\n",
            "Is the random matrix symmetric?  False\n"
          ]
        }
      ],
      "source": [
        "import numpy as np\n",
        "\n",
        "\n",
        "random_matrix = np.random.randint(1, 10, (4, 4))\n",
        "transpose_random = random_matrix.T\n",
        "\n",
        "\n",
        "is_symmetric_random = (random_matrix == transpose_random).all()\n",
        "print(\"Random Matrix:\\n\", random_matrix)\n",
        "print(\"\\nIs the random matrix symmetric? \", is_symmetric_random)"
      ]
    },
    {
      "cell_type": "markdown",
      "source": [
        "```\n",
        "Q3:\n",
        "```"
      ],
      "metadata": {
        "id": "pNExXAEOexRK"
      }
    },
    {
      "cell_type": "code",
      "source": [
        "import numpy as np\n",
        "\n",
        "example_matrix = np.array([[2, 4, 6],\n",
        "                           [8, 10, 12],\n",
        "                           [14, 16, 18]])\n",
        "\n",
        "trace_example = np.trace(example_matrix)\n",
        "print(\"\\nTrace of the Example Matrix:\", trace_example)\n"
      ],
      "metadata": {
        "colab": {
          "base_uri": "https://localhost:8080/"
        },
        "id": "Rfoo45owe3aO",
        "outputId": "517f946b-d346-4bd0-cd90-26fc5c428ace"
      },
      "execution_count": 4,
      "outputs": [
        {
          "output_type": "stream",
          "name": "stdout",
          "text": [
            "\n",
            "Trace of the Example Matrix: 30\n"
          ]
        }
      ]
    },
    {
      "cell_type": "markdown",
      "source": [
        "```\n",
        "Practice Problem 2\n",
        "```"
      ],
      "metadata": {
        "id": "iTxPYSmqe-Vt"
      }
    },
    {
      "cell_type": "code",
      "source": [
        "import numpy as np\n",
        "\n",
        "identity_matrix = np.eye(5)\n",
        "trace_identity = np.trace(identity_matrix)\n",
        "print(\"5x5 Identity Matrix:\\n\", identity_matrix)\n",
        "print(\"\\nTrace of the Identity Matrix:\", trace_identity)\n"
      ],
      "metadata": {
        "colab": {
          "base_uri": "https://localhost:8080/"
        },
        "id": "4nQ2KQC0fBPz",
        "outputId": "50577d8c-a86c-43f3-80ad-c290cb0f77db"
      },
      "execution_count": 5,
      "outputs": [
        {
          "output_type": "stream",
          "name": "stdout",
          "text": [
            "5x5 Identity Matrix:\n",
            " [[1. 0. 0. 0. 0.]\n",
            " [0. 1. 0. 0. 0.]\n",
            " [0. 0. 1. 0. 0.]\n",
            " [0. 0. 0. 1. 0.]\n",
            " [0. 0. 0. 0. 1.]]\n",
            "\n",
            "Trace of the Identity Matrix: 5.0\n"
          ]
        }
      ]
    },
    {
      "cell_type": "markdown",
      "source": [
        "```\n",
        "Practice Problem 3\n",
        "```"
      ],
      "metadata": {
        "id": "iWtZTkNKfK2_"
      }
    },
    {
      "cell_type": "code",
      "source": [
        "import numpy as  np\n",
        "\n",
        "matrix_B = np.array([[3, 1, 2],\n",
        "                     [1, 4, 5],\n",
        "                     [2, 5, 6]])\n",
        "\n",
        "det_B = np.linalg.det(matrix_B)\n",
        "print(\"\\nDeterminant of Matrix B:\", det_B)\n"
      ],
      "metadata": {
        "colab": {
          "base_uri": "https://localhost:8080/"
        },
        "id": "UWNHHOp6fKjX",
        "outputId": "0d77ec44-0624-4b42-f664-df4444e6d4a1"
      },
      "execution_count": 6,
      "outputs": [
        {
          "output_type": "stream",
          "name": "stdout",
          "text": [
            "\n",
            "Determinant of Matrix B: -4.999999999999994\n"
          ]
        }
      ]
    },
    {
      "cell_type": "markdown",
      "source": [
        "```\n",
        "Practice Problem 4\n",
        "```\n"
      ],
      "metadata": {
        "id": "Lg6ex8iSfbcd"
      }
    },
    {
      "cell_type": "code",
      "source": [
        "import numpy as np\n",
        "\n",
        "\n",
        "pixel_matrix = np.random.randint(0, 256, (3, 3))\n",
        "transpose_pixel = pixel_matrix.T\n",
        "det_pixel = np.linalg.det(pixel_matrix)\n",
        "\n",
        "print(\"Pixel Intensity Matrix:\\n\", pixel_matrix)\n",
        "print(\"\\nTranspose of Pixel Intensity Matrix:\\n\", transpose_pixel)\n",
        "print(\"\\nDeterminant of Pixel Intensity Matrix:\", det_pixel)\n"
      ],
      "metadata": {
        "colab": {
          "base_uri": "https://localhost:8080/"
        },
        "id": "cKYEyYyrfdzS",
        "outputId": "76b96feb-b4ba-479a-994a-cb3acb435254"
      },
      "execution_count": 7,
      "outputs": [
        {
          "output_type": "stream",
          "name": "stdout",
          "text": [
            "Pixel Intensity Matrix:\n",
            " [[ 58 243 163]\n",
            " [198 249 207]\n",
            " [225 202  96]]\n",
            "\n",
            "Transpose of Pixel Intensity Matrix:\n",
            " [[ 58 198 225]\n",
            " [243 249 202]\n",
            " [163 207  96]]\n",
            "\n",
            "Determinant of Pixel Intensity Matrix: 3047274.0000000023\n"
          ]
        }
      ]
    },
    {
      "cell_type": "markdown",
      "source": [
        "```\n",
        "Practice Problem 5\n",
        "```"
      ],
      "metadata": {
        "id": "Trk_WpxZfoGS"
      }
    },
    {
      "cell_type": "code",
      "source": [
        "import numpy as np\n",
        "\n",
        "symmetric_matrix = np.array([[2, 1, 3],\n",
        "                              [1, 5, 4],\n",
        "                              [3, 4, 6]])\n",
        "\n",
        "\n",
        "is_symmetric = (symmetric_matrix == symmetric_matrix.T).all()\n",
        "\n",
        "print(\"Symmetric Matrix:\\n\", symmetric_matrix)\n",
        "print(\"\\nIs the matrix symmetric? \", is_symmetric)\n"
      ],
      "metadata": {
        "colab": {
          "base_uri": "https://localhost:8080/"
        },
        "id": "kmBgvGUAfqzm",
        "outputId": "ab38672f-161e-41a8-c97a-1fb36730b79d"
      },
      "execution_count": 8,
      "outputs": [
        {
          "output_type": "stream",
          "name": "stdout",
          "text": [
            "Symmetric Matrix:\n",
            " [[2 1 3]\n",
            " [1 5 4]\n",
            " [3 4 6]]\n",
            "\n",
            "Is the matrix symmetric?  True\n"
          ]
        }
      ]
    }
  ]
}