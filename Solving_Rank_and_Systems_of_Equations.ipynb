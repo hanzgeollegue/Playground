{
  "nbformat": 4,
  "nbformat_minor": 0,
  "metadata": {
    "colab": {
      "provenance": []
    },
    "kernelspec": {
      "name": "python3",
      "display_name": "Python 3"
    },
    "language_info": {
      "name": "python"
    }
  },
  "cells": [
    {
      "cell_type": "markdown",
      "source": [
        "```\n",
        "Problem 1\n",
        "```"
      ],
      "metadata": {
        "id": "MUHjaDtBuy-l"
      }
    },
    {
      "cell_type": "code",
      "execution_count": 1,
      "metadata": {
        "colab": {
          "base_uri": "https://localhost:8080/"
        },
        "id": "t2YTsIzkutxR",
        "outputId": "c683b0a4-bcf1-4906-fac3-a75f049b2d86"
      },
      "outputs": [
        {
          "output_type": "stream",
          "name": "stdout",
          "text": [
            "The rank of the given matrix is: 2\n"
          ]
        }
      ],
      "source": [
        "import numpy as np\n",
        "\n",
        "# Define the matrix\n",
        "matrix = np.array([\n",
        "    [1, 2, 0, 4],\n",
        "    [3, 6, 0, 8],\n",
        "    [5, 10, 0, 12],\n",
        "    [7, 14, 0, 16]\n",
        "])\n",
        "\n",
        "# Compute the rank of the matrix\n",
        "rank = np.linalg.matrix_rank(matrix)\n",
        "\n",
        "print(f\"The rank of the given matrix is: {rank}\")\n"
      ]
    },
    {
      "cell_type": "markdown",
      "source": [
        "```\n",
        "Problem 2\n",
        "```\n"
      ],
      "metadata": {
        "id": "Xq_lyeHIvRPI"
      }
    },
    {
      "cell_type": "code",
      "source": [
        "import numpy as np\n",
        "\n",
        "# Define the coefficient matrix and constant vector\n",
        "coeff_matrix = np.array([\n",
        "    [1, 1, 1],\n",
        "    [2, 4, 3],\n",
        "    [0, 0, 1]\n",
        "])\n",
        "constants = np.array([6, 18, 5])\n",
        "\n",
        "# Compute the solution using the inverse of the matrix\n",
        "solution = np.linalg.inv(coeff_matrix).dot(constants)\n",
        "\n",
        "# Display the results\n",
        "print(f\"x = {solution[0]:.3f}, y = {solution[1]:.3f}, z = {solution[2]:.3f}\")\n"
      ],
      "metadata": {
        "colab": {
          "base_uri": "https://localhost:8080/"
        },
        "id": "eTOLa8-fvTeX",
        "outputId": "70ca2131-e850-436e-a248-28f07434fc59"
      },
      "execution_count": 2,
      "outputs": [
        {
          "output_type": "stream",
          "name": "stdout",
          "text": [
            "x = 0.500, y = 0.500, z = 5.000\n"
          ]
        }
      ]
    },
    {
      "cell_type": "markdown",
      "source": [
        "```\n",
        "Problem 4\n",
        "```\n"
      ],
      "metadata": {
        "id": "Pema3vNHvWJD"
      }
    },
    {
      "cell_type": "code",
      "source": [
        "import numpy as np\n",
        "\n",
        "# Define the coefficient matrix and the constants vector\n",
        "matrix = np.array([\n",
        "    [1, 1, 1, 1],\n",
        "    [2, 1, 0, 3],\n",
        "    [4, 3, 2, 1],\n",
        "    [3, 0, 5, 2]\n",
        "])\n",
        "constants = np.array([10, 11, 20, 15])\n",
        "\n",
        "# Compute the solution using the inverse of the matrix\n",
        "solution = np.linalg.inv(matrix).dot(constants)\n",
        "\n",
        "# Display the solution\n",
        "print(f\"x1 = {solution[0]:.3f}, x2 = {solution[1]:.3f}, x3 = {solution[2]:.3f}, x4 = {solution[3]:.3f}\")\n"
      ],
      "metadata": {
        "colab": {
          "base_uri": "https://localhost:8080/"
        },
        "id": "Hm4GlJnNvZFh",
        "outputId": "4b7771e6-d773-41c4-8c2a-390d9bf4c040"
      },
      "execution_count": 3,
      "outputs": [
        {
          "output_type": "stream",
          "name": "stdout",
          "text": [
            "x1 = -1.625, x2 = 6.000, x3 = 2.875, x4 = 2.750\n"
          ]
        }
      ]
    }
  ]
}