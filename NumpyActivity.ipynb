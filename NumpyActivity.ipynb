{
  "nbformat": 4,
  "nbformat_minor": 0,
  "metadata": {
    "colab": {
      "provenance": []
    },
    "kernelspec": {
      "name": "python3",
      "display_name": "Python 3"
    },
    "language_info": {
      "name": "python"
    }
  },
  "cells": [
    {
      "cell_type": "markdown",
      "source": [
        "\n",
        "\n",
        "```\n",
        "Exercise 1: Matrix Addition & Subtraction\n",
        "```\n",
        "\n"
      ],
      "metadata": {
        "id": "IH7ny1t9PGu2"
      }
    },
    {
      "cell_type": "code",
      "execution_count": 1,
      "metadata": {
        "colab": {
          "base_uri": "https://localhost:8080/"
        },
        "id": "0zki_cqnLTgC",
        "outputId": "b7f0389c-4bd8-4902-c80c-7401e438fe16"
      },
      "outputs": [
        {
          "output_type": "stream",
          "name": "stdout",
          "text": [
            "A + B:\n",
            "[[10 10 10]\n",
            " [10 10 10]\n",
            " [10 10 10]]\n",
            "A - B:\n",
            "[[-8 -6 -4]\n",
            " [-2  0  2]\n",
            " [ 4  6  8]]\n"
          ]
        }
      ],
      "source": [
        "import numpy as np\n",
        "\n",
        "# Define two 3x3 matrices\n",
        "A = np.array([[1, 2, 3], [4, 5, 6], [7, 8, 9]])\n",
        "B = np.array([[9, 8, 7], [6, 5, 4], [3, 2, 1]])\n",
        "\n",
        "# Matrix Addition\n",
        "addition_result = A + B\n",
        "print(\"A + B:\")\n",
        "print(addition_result)\n",
        "\n",
        "# Matrix Subtraction\n",
        "subtraction_result = A - B\n",
        "print(\"A - B:\")\n",
        "print(subtraction_result)"
      ]
    },
    {
      "cell_type": "markdown",
      "source": [
        "```\n",
        "Exercise 2: Matrix Multiplication\n",
        "```"
      ],
      "metadata": {
        "id": "0qhB0QcEPUsV"
      }
    },
    {
      "cell_type": "code",
      "source": [
        "import numpy as np\n",
        "\n",
        "# Define a 2x3 matrix F and a 3x2 matrix G\n",
        "F = np.array([[1, 2, 3], [4, 5, 6]])\n",
        "G = np.array([[7, 8], [9, 10], [11, 12]])\n",
        "\n",
        "# Matrix Multiplication\n",
        "multiplication_result = np.dot(F, G)\n",
        "print(\"F * G (Matrix Multiplication):\")\n",
        "print(multiplication_result)"
      ],
      "metadata": {
        "colab": {
          "base_uri": "https://localhost:8080/"
        },
        "id": "adWnEY0oPalC",
        "outputId": "045b2fda-aa10-4009-962a-ea50bc2c6cec"
      },
      "execution_count": 2,
      "outputs": [
        {
          "output_type": "stream",
          "name": "stdout",
          "text": [
            "F * G (Matrix Multiplication):\n",
            "[[ 58  64]\n",
            " [139 154]]\n"
          ]
        }
      ]
    },
    {
      "cell_type": "markdown",
      "source": [
        "```\n",
        "Exercise 3: Matrix Transpose\n",
        "```"
      ],
      "metadata": {
        "id": "JcgAy4KTP-5q"
      }
    },
    {
      "cell_type": "code",
      "source": [
        "import numpy as np\n",
        "\n",
        "# Define a 2x3 matrix\n",
        "Z = np.array([[1, 2, 3], [4, 5, 6]])\n",
        "\n",
        "# Transpose of the matrix\n",
        "transpose_result = Z.T\n",
        "print(\"Transpose of Z:\")\n",
        "print(transpose_result)"
      ],
      "metadata": {
        "colab": {
          "base_uri": "https://localhost:8080/"
        },
        "id": "pnqx3k-OQDyi",
        "outputId": "2eeac2a5-ccc4-467e-bf3b-eed7b58fcf1f"
      },
      "execution_count": 3,
      "outputs": [
        {
          "output_type": "stream",
          "name": "stdout",
          "text": [
            "Transpose of A:\n",
            "[[1 4]\n",
            " [2 5]\n",
            " [3 6]]\n"
          ]
        }
      ]
    },
    {
      "cell_type": "markdown",
      "source": [
        "```\n",
        "Exercise 4: Calculating the Determinant\n",
        "```"
      ],
      "metadata": {
        "id": "XsuSA_HPQx6k"
      }
    },
    {
      "cell_type": "code",
      "source": [
        "import numpy as np\n",
        "\n",
        "# Define a 3x3 matrix\n",
        "M = np.array([[1, 2, 3], [0, 4, 5], [1, 0, 6]])\n",
        "\n",
        "# Calculate the determinant of M\n",
        "determinant_result = np.linalg.det(M)\n",
        "print(\"Determinant of M:\", determinant_result)\n"
      ],
      "metadata": {
        "colab": {
          "base_uri": "https://localhost:8080/"
        },
        "id": "SeVTp0yqQ2Qu",
        "outputId": "85808512-e2a7-4e58-a359-c42cb4ca64cc"
      },
      "execution_count": 4,
      "outputs": [
        {
          "output_type": "stream",
          "name": "stdout",
          "text": [
            "Determinant of M: 22.000000000000004\n"
          ]
        }
      ]
    },
    {
      "cell_type": "markdown",
      "source": [
        "```\n",
        "Exercise 5: Finding the Inverse\n",
        "```"
      ],
      "metadata": {
        "id": "klGquIquRPwq"
      }
    },
    {
      "cell_type": "code",
      "source": [
        "import numpy as np\n",
        "\n",
        "# Define a 3x3 invertible matrix\n",
        "H = np.array([[4, 7, 2], [3, 5, 1], [2, 8, 6]])\n",
        "\n",
        "# Calculate the inverse of H\n",
        "inverse_result = np.linalg.inv(H)\n",
        "print(\"Inverse of H:\")\n",
        "print(inverse_result)\n"
      ],
      "metadata": {
        "colab": {
          "base_uri": "https://localhost:8080/"
        },
        "id": "tfVDzSwcRWy1",
        "outputId": "7b2a81d8-98d6-449f-d8ad-bf9fb5e3265b"
      },
      "execution_count": 5,
      "outputs": [
        {
          "output_type": "stream",
          "name": "stdout",
          "text": [
            "Inverse of H:\n",
            "[[ 5.5  -6.5  -0.75]\n",
            " [-4.    5.    0.5 ]\n",
            " [ 3.5  -4.5  -0.25]]\n"
          ]
        }
      ]
    },
    {
      "cell_type": "markdown",
      "source": [
        "```\n",
        "1. Matrix Creation and Structure\n",
        "```\n",
        "\n",
        ">> Question: Explain what a matrix is and provide an example of a 3×2 matrix. Using NumPy, write code to create this matrix.\n",
        "\n",
        ">> Answer: Explanation: A matrix is a two-dimensional array of numbers arranged in rows and columns. It is often represented in the form of a rectangular array, where each element is denoted by its position (row, column). Matrices are used in many areas of mathematics, physics, and computer science, especially in solving systems of equations and performing linear transformations.\n"
      ],
      "metadata": {
        "id": "O1nDWrV3R9nJ"
      }
    },
    {
      "cell_type": "code",
      "source": [
        "import numpy as np\n",
        "\n",
        "# Create a 3x2 matrix\n",
        "AA = np.array([[1, 2], [3, 4], [5, 6]])\n",
        "\n",
        "print(\"3x2 Matrix AA:\")\n",
        "print(AA)\n"
      ],
      "metadata": {
        "colab": {
          "base_uri": "https://localhost:8080/"
        },
        "id": "WRjMa-_6SRAj",
        "outputId": "815da5a9-ebea-46ee-be10-d1f5f0b682e1"
      },
      "execution_count": 8,
      "outputs": [
        {
          "output_type": "stream",
          "name": "stdout",
          "text": [
            "3x2 Matrix AA:\n",
            "[[1 2]\n",
            " [3 4]\n",
            " [5 6]]\n"
          ]
        }
      ]
    },
    {
      "cell_type": "markdown",
      "source": [
        "```\n",
        "2. Basic Matrix Operations\n",
        "```\n",
        ">> Question: Given two matrices A and B, describe the conditions necessary for performing matrix addition and matrix multiplication.\n",
        "\n",
        ">> Answer: Matrix Addition: To add two matrices, the matrices must have the same dimensions (same number of rows and columns). Each element of the resulting matrix is the sum of the corresponding elements in the two matrices.\n",
        "\n",
        ">> Matrix Multiplication: To multiply two matrices, the number of columns in the first matrix must be equal to the number of rows in the second matrix. The element at position (i, j) in the resulting matrix is obtained by computing the dot product of the i-th row of the first matrix and the j-th column of the second matrix."
      ],
      "metadata": {
        "id": "udDz7vZKSjFJ"
      }
    },
    {
      "cell_type": "code",
      "source": [
        "import numpy as np\n",
        "\n",
        "# Create two 5x5 matrices\n",
        "AAA = np.random.randint(1, 10, (5, 5))\n",
        "BBB = np.random.randint(1, 10, (5, 5))\n",
        "\n",
        "# Matrix Addition\n",
        "addition_result = AAA + BBB\n",
        "print(\"AAA + BBB (Matrix Addition):\")\n",
        "print(addition_result)\n",
        "\n",
        "# Matrix Multiplication\n",
        "multiplication_result = np.dot(AAA, BBB)\n",
        "print(\"AAA * BBB (Matrix Multiplication):\")\n",
        "print(multiplication_result)\n"
      ],
      "metadata": {
        "colab": {
          "base_uri": "https://localhost:8080/"
        },
        "id": "CTxwTUUlSt2p",
        "outputId": "f46dafa4-8060-489e-f48e-6851fe0da581"
      },
      "execution_count": 10,
      "outputs": [
        {
          "output_type": "stream",
          "name": "stdout",
          "text": [
            "AAA + BBB (Matrix Addition):\n",
            "[[ 8 11 10 13  3]\n",
            " [12 12 12 12  6]\n",
            " [17 11  3 11 15]\n",
            " [12  7  8 15 10]\n",
            " [ 9  8 14 13 10]]\n",
            "AAA * BBB (Matrix Multiplication):\n",
            "[[143  77 111  91  96]\n",
            " [201 116 151 130 145]\n",
            " [153 113 179 135 120]\n",
            " [165  89 138 112 118]\n",
            " [223 156 182 154 161]]\n"
          ]
        }
      ]
    },
    {
      "cell_type": "markdown",
      "source": [
        "```\n",
        "3. Transpose of a Matrix\n",
        "```\n",
        "\n",
        ">> Question: Explain the concept of matrix transposition. What effect does it have on a 3×2 matrix? Write code to create a 3×2 matrix and find its transpose.\n",
        "\n",
        ">> Answer: The transpose of a matrix is a new matrix formed by switching its rows with its columns. The transpose of a matrix \\( A \\) is represented as \\( A^T \\).\n",
        "\n"
      ],
      "metadata": {
        "id": "wdNCIpQLS5MF"
      }
    },
    {
      "cell_type": "code",
      "source": [
        "import numpy as np\n",
        "\n",
        "# Create a 3x2 matrix\n",
        "AAAA = np.array([[1, 2], [3, 4], [5, 6]])\n",
        "\n",
        "# Find the transpose of A\n",
        "transpose_result = AAAA.T\n",
        "print(\"Transpose of AAAA:\")\n",
        "print(transpose_result)\n"
      ],
      "metadata": {
        "colab": {
          "base_uri": "https://localhost:8080/"
        },
        "id": "ZrMSgxhCTTpo",
        "outputId": "08ca65de-82e7-428b-b033-e08043606726"
      },
      "execution_count": 12,
      "outputs": [
        {
          "output_type": "stream",
          "name": "stdout",
          "text": [
            "Transpose of AAAA:\n",
            "[[1 3 5]\n",
            " [2 4 6]]\n"
          ]
        }
      ]
    },
    {
      "cell_type": "markdown",
      "source": [
        "```\n",
        "4. Working with Large Matrices\n",
        "```\n",
        "\n",
        ">>Question: Create a random 5×5 matrix using NumPy. Compute the sum of all elements in the matrix, then find its transpose. Print both the sum and the transpose of the matrix.\n"
      ],
      "metadata": {
        "id": "NB5VURCVT3Kr"
      }
    },
    {
      "cell_type": "code",
      "source": [
        "import numpy as np\n",
        "\n",
        "# Create a random 5x5 matrix\n",
        "matrix = np.random.randint(1, 100, (5, 5))\n",
        "\n",
        "# Compute the sum of all elements in the matrix\n",
        "matrix_sum = np.sum(matrix)\n",
        "\n",
        "# Find the transpose of the matrix\n",
        "transpose_result = matrix.T\n",
        "\n",
        "# Print the results\n",
        "print(\"5x5 Random Matrix:\")\n",
        "print(matrix)\n",
        "print(\"\\n\")\n",
        "print(\"Sum of all elements in the matrix:\", matrix_sum)\n",
        "print(\"\\n\")\n",
        "print(\"Transpose of the matrix:\")\n",
        "print(transpose_result)"
      ],
      "metadata": {
        "colab": {
          "base_uri": "https://localhost:8080/"
        },
        "id": "vHQvRkNyUAzJ",
        "outputId": "60f2cc7d-f54f-4fff-9186-fddde853a2cc"
      },
      "execution_count": 15,
      "outputs": [
        {
          "output_type": "stream",
          "name": "stdout",
          "text": [
            "5x5 Random Matrix:\n",
            "[[48 14 36 36 75]\n",
            " [85 32 96 74 24]\n",
            " [26 23 74 98 53]\n",
            " [18 50 54 22 70]\n",
            " [ 9 46 39 28 55]]\n",
            "\n",
            "\n",
            "Sum of all elements in the matrix: 1185\n",
            "\n",
            "\n",
            "Transpose of the matrix:\n",
            "[[48 85 26 18  9]\n",
            " [14 32 23 50 46]\n",
            " [36 96 74 54 39]\n",
            " [36 74 98 22 28]\n",
            " [75 24 53 70 55]]\n"
          ]
        }
      ]
    },
    {
      "cell_type": "markdown",
      "source": [
        "```\n",
        "5. Applying Matrix Operations in Context\n",
        "```\n",
        "\n",
        ">>Question: Suppose you have two random 10×10 matrices D and E. Write code to (a) add the matrices, (b) subtract E from D, and (c) multiply D and E using matrix multiplication. Print each result and describe one possible application of each operation in computer science.\n"
      ],
      "metadata": {
        "id": "7ISWbBmtUSNS"
      }
    },
    {
      "cell_type": "code",
      "source": [
        "import numpy as np\n",
        "\n",
        "# Create two random 10x10 matrices\n",
        "D = np.random.randint(1, 10, (10, 10))\n",
        "E = np.random.randint(1, 10, (10, 10))\n",
        "\n",
        "# Matrix Addition\n",
        "addition_result = D + E\n",
        "print(\"D + E (Matrix Addition):\")\n",
        "print(addition_result)\n",
        "print(\"\\n\")\n",
        "# Matrix Subtraction\n",
        "subtraction_result = D - E\n",
        "print(\"D - E (Matrix Subtraction):\")\n",
        "print(subtraction_result)\n",
        "print (\"\\n\")\n",
        "# Matrix Multiplication\n",
        "multiplication_result = np.dot(D, E)\n",
        "print(\"D * E (Matrix Multiplication):\")\n",
        "print(multiplication_result)\n"
      ],
      "metadata": {
        "colab": {
          "base_uri": "https://localhost:8080/"
        },
        "id": "pwlowveGUbCz",
        "outputId": "338f2728-3b5c-49c1-cb30-63e19383bacf"
      },
      "execution_count": 17,
      "outputs": [
        {
          "output_type": "stream",
          "name": "stdout",
          "text": [
            "D + E (Matrix Addition):\n",
            "[[14  5  3 10 13 16 11  8 10 14]\n",
            " [10 10 10  7 11 10 12  8  4 18]\n",
            " [ 9  6  5  3  8 10 15 10  9 13]\n",
            " [15 13 15 11 12 11  9  6  9 10]\n",
            " [ 5  4  6 11  2 12  9 10 10 13]\n",
            " [13  9 10  9  4  9  3  6 15  5]\n",
            " [ 6 12  4 14  8 14 12 11  9  6]\n",
            " [14  4  5  8  7 14  7  7 15  8]\n",
            " [11  5 16 12 10 10  7 17 17  4]\n",
            " [17  6 13 11  2 12 11 11  6 11]]\n",
            "\n",
            "\n",
            "D - E (Matrix Subtraction):\n",
            "[[-4 -3 -1 -2  5  2 -7 -4  6 -4]\n",
            " [ 0  6 -8 -1  7  2  2  2 -2  0]\n",
            " [ 5  0  3  1  0  0 -3  4  7 -3]\n",
            " [ 1 -3 -3  1 -6  1 -1 -4  1  4]\n",
            " [ 3  0  2  5  0 -4  5 -2 -8 -1]\n",
            " [-3 -5  6 -7  2 -7 -1 -4 -1 -1]\n",
            " [-4 -6  2  0  4  4 -2 -3 -3 -2]\n",
            " [ 0  0 -1 -4  1 -4  1  1  1  6]\n",
            " [ 5 -3  0 -6 -4  8 -5 -1 -1 -2]\n",
            " [-1  2  3 -7  0  0 -1  5  4 -1]]\n",
            "\n",
            "\n",
            "D * E (Matrix Multiplication):\n",
            "[[254 202 189 297 151 274 213 262 286 228]\n",
            " [319 218 215 322 127 342 263 256 271 305]\n",
            " [292 215 197 321 171 294 283 272 273 256]\n",
            " [307 228 221 303 182 284 302 256 219 296]\n",
            " [263 213 169 247 152 244 235 196 176 200]\n",
            " [140 112 123 162 125 153 204 167 141 192]\n",
            " [237 219 176 250 145 265 193 220 255 195]\n",
            " [270 187 185 301 150 255 249 246 237 232]\n",
            " [283 210 178 292 188 302 273 259 273 244]\n",
            " [312 215 186 306 171 310 307 249 237 276]]\n"
          ]
        }
      ]
    }
  ]
}